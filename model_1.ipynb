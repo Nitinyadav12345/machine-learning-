{
 "cells": [
  {
   "cell_type": "code",
   "execution_count": 15,
   "id": "e4d3682e",
   "metadata": {},
   "outputs": [],
   "source": [
    "import pandas as pd \n",
    "import joblib as jb\n",
    "import matplotlib.pyplot as plt"
   ]
  },
  {
   "cell_type": "code",
   "execution_count": 3,
   "id": "efee4aa8",
   "metadata": {},
   "outputs": [],
   "source": [
    "model_1=jb.load('model_1')"
   ]
  },
  {
   "cell_type": "code",
   "execution_count": 4,
   "id": "101634bc",
   "metadata": {},
   "outputs": [
    {
     "data": {
      "text/html": [
       "<div>\n",
       "<style scoped>\n",
       "    .dataframe tbody tr th:only-of-type {\n",
       "        vertical-align: middle;\n",
       "    }\n",
       "\n",
       "    .dataframe tbody tr th {\n",
       "        vertical-align: top;\n",
       "    }\n",
       "\n",
       "    .dataframe thead th {\n",
       "        text-align: right;\n",
       "    }\n",
       "</style>\n",
       "<table border=\"1\" class=\"dataframe\">\n",
       "  <thead>\n",
       "    <tr style=\"text-align: right;\">\n",
       "      <th></th>\n",
       "      <th>SQUARE_FT</th>\n",
       "      <th>LONGITUDE</th>\n",
       "      <th>LATITUDE</th>\n",
       "      <th>prices</th>\n",
       "    </tr>\n",
       "  </thead>\n",
       "  <tbody>\n",
       "    <tr>\n",
       "      <th>0</th>\n",
       "      <td>545.171340</td>\n",
       "      <td>21.262000</td>\n",
       "      <td>73.047700</td>\n",
       "      <td>-74.753512</td>\n",
       "    </tr>\n",
       "    <tr>\n",
       "      <th>1</th>\n",
       "      <td>800.000000</td>\n",
       "      <td>18.966114</td>\n",
       "      <td>73.148278</td>\n",
       "      <td>-8.411473</td>\n",
       "    </tr>\n",
       "    <tr>\n",
       "      <th>2</th>\n",
       "      <td>1257.096513</td>\n",
       "      <td>22.592200</td>\n",
       "      <td>88.484911</td>\n",
       "      <td>46.137416</td>\n",
       "    </tr>\n",
       "    <tr>\n",
       "      <th>3</th>\n",
       "      <td>1400.329489</td>\n",
       "      <td>26.988300</td>\n",
       "      <td>75.584600</td>\n",
       "      <td>82.991512</td>\n",
       "    </tr>\n",
       "    <tr>\n",
       "      <th>4</th>\n",
       "      <td>430.477830</td>\n",
       "      <td>22.700000</td>\n",
       "      <td>72.870000</td>\n",
       "      <td>-106.180971</td>\n",
       "    </tr>\n",
       "    <tr>\n",
       "      <th>...</th>\n",
       "      <td>...</td>\n",
       "      <td>...</td>\n",
       "      <td>...</td>\n",
       "      <td>...</td>\n",
       "    </tr>\n",
       "    <tr>\n",
       "      <th>68715</th>\n",
       "      <td>856.555505</td>\n",
       "      <td>19.180000</td>\n",
       "      <td>72.963330</td>\n",
       "      <td>3.451344</td>\n",
       "    </tr>\n",
       "    <tr>\n",
       "      <th>68716</th>\n",
       "      <td>2304.147465</td>\n",
       "      <td>30.661104</td>\n",
       "      <td>76.746082</td>\n",
       "      <td>263.407585</td>\n",
       "    </tr>\n",
       "    <tr>\n",
       "      <th>68717</th>\n",
       "      <td>33362.792750</td>\n",
       "      <td>19.222101</td>\n",
       "      <td>72.988231</td>\n",
       "      <td>7169.342201</td>\n",
       "    </tr>\n",
       "    <tr>\n",
       "      <th>68718</th>\n",
       "      <td>1173.708920</td>\n",
       "      <td>18.496670</td>\n",
       "      <td>73.941670</td>\n",
       "      <td>74.547852</td>\n",
       "    </tr>\n",
       "    <tr>\n",
       "      <th>68719</th>\n",
       "      <td>2439.532944</td>\n",
       "      <td>19.124896</td>\n",
       "      <td>72.893503</td>\n",
       "      <td>352.809607</td>\n",
       "    </tr>\n",
       "  </tbody>\n",
       "</table>\n",
       "<p>68720 rows × 4 columns</p>\n",
       "</div>"
      ],
      "text/plain": [
       "          SQUARE_FT  LONGITUDE   LATITUDE       prices\n",
       "0        545.171340  21.262000  73.047700   -74.753512\n",
       "1        800.000000  18.966114  73.148278    -8.411473\n",
       "2       1257.096513  22.592200  88.484911    46.137416\n",
       "3       1400.329489  26.988300  75.584600    82.991512\n",
       "4        430.477830  22.700000  72.870000  -106.180971\n",
       "...             ...        ...        ...          ...\n",
       "68715    856.555505  19.180000  72.963330     3.451344\n",
       "68716   2304.147465  30.661104  76.746082   263.407585\n",
       "68717  33362.792750  19.222101  72.988231  7169.342201\n",
       "68718   1173.708920  18.496670  73.941670    74.547852\n",
       "68719   2439.532944  19.124896  72.893503   352.809607\n",
       "\n",
       "[68720 rows x 4 columns]"
      ]
     },
     "execution_count": 4,
     "metadata": {},
     "output_type": "execute_result"
    }
   ],
   "source": [
    "df = pd.read_csv('test.csv')\n",
    "df"
   ]
  },
  {
   "cell_type": "code",
   "execution_count": 5,
   "id": "fe94e09a",
   "metadata": {},
   "outputs": [
    {
     "ename": "KeyError",
     "evalue": "\"['UNDER_CONSTRUCTION' 'RERA' 'BHK_NO.' 'POSTED_BY' 'READY_TO_MOVE'\\n 'RESALE' 'BHK_OR_RK' 'ADDRESS'] not found in axis\"",
     "output_type": "error",
     "traceback": [
      "\u001b[1;31m---------------------------------------------------------------------------\u001b[0m",
      "\u001b[1;31mKeyError\u001b[0m                                  Traceback (most recent call last)",
      "\u001b[1;32m~\\AppData\\Local\\Temp/ipykernel_8532/3739365554.py\u001b[0m in \u001b[0;36m<module>\u001b[1;34m\u001b[0m\n\u001b[1;32m----> 1\u001b[1;33m \u001b[0mdf\u001b[0m\u001b[1;33m=\u001b[0m\u001b[0mdf\u001b[0m\u001b[1;33m.\u001b[0m\u001b[0mdrop\u001b[0m\u001b[1;33m(\u001b[0m\u001b[1;33m(\u001b[0m\u001b[1;33m[\u001b[0m\u001b[1;34m\"UNDER_CONSTRUCTION\"\u001b[0m\u001b[1;33m,\u001b[0m \u001b[1;34m\"RERA\"\u001b[0m\u001b[1;33m,\u001b[0m \u001b[1;34m\"BHK_NO.\"\u001b[0m\u001b[1;33m,\u001b[0m\u001b[1;34m\"POSTED_BY\"\u001b[0m\u001b[1;33m,\u001b[0m\u001b[1;34m\"READY_TO_MOVE\"\u001b[0m\u001b[1;33m,\u001b[0m\u001b[1;34m\"RESALE\"\u001b[0m\u001b[1;33m,\u001b[0m\u001b[1;34m\"BHK_OR_RK\"\u001b[0m\u001b[1;33m,\u001b[0m\u001b[1;34m\"ADDRESS\"\u001b[0m\u001b[1;33m]\u001b[0m\u001b[1;33m)\u001b[0m\u001b[1;33m,\u001b[0m\u001b[0maxis\u001b[0m\u001b[1;33m=\u001b[0m\u001b[1;36m1\u001b[0m\u001b[1;33m)\u001b[0m\u001b[1;33m\u001b[0m\u001b[1;33m\u001b[0m\u001b[0m\n\u001b[0m\u001b[0;32m      2\u001b[0m \u001b[0mdf\u001b[0m\u001b[1;33m\u001b[0m\u001b[1;33m\u001b[0m\u001b[0m\n",
      "\u001b[1;32m~\\anaconda3\\lib\\site-packages\\pandas\\util\\_decorators.py\u001b[0m in \u001b[0;36mwrapper\u001b[1;34m(*args, **kwargs)\u001b[0m\n\u001b[0;32m    309\u001b[0m                     \u001b[0mstacklevel\u001b[0m\u001b[1;33m=\u001b[0m\u001b[0mstacklevel\u001b[0m\u001b[1;33m,\u001b[0m\u001b[1;33m\u001b[0m\u001b[1;33m\u001b[0m\u001b[0m\n\u001b[0;32m    310\u001b[0m                 )\n\u001b[1;32m--> 311\u001b[1;33m             \u001b[1;32mreturn\u001b[0m \u001b[0mfunc\u001b[0m\u001b[1;33m(\u001b[0m\u001b[1;33m*\u001b[0m\u001b[0margs\u001b[0m\u001b[1;33m,\u001b[0m \u001b[1;33m**\u001b[0m\u001b[0mkwargs\u001b[0m\u001b[1;33m)\u001b[0m\u001b[1;33m\u001b[0m\u001b[1;33m\u001b[0m\u001b[0m\n\u001b[0m\u001b[0;32m    312\u001b[0m \u001b[1;33m\u001b[0m\u001b[0m\n\u001b[0;32m    313\u001b[0m         \u001b[1;32mreturn\u001b[0m \u001b[0mwrapper\u001b[0m\u001b[1;33m\u001b[0m\u001b[1;33m\u001b[0m\u001b[0m\n",
      "\u001b[1;32m~\\anaconda3\\lib\\site-packages\\pandas\\core\\frame.py\u001b[0m in \u001b[0;36mdrop\u001b[1;34m(self, labels, axis, index, columns, level, inplace, errors)\u001b[0m\n\u001b[0;32m   4904\u001b[0m                 \u001b[0mweight\u001b[0m  \u001b[1;36m1.0\u001b[0m     \u001b[1;36m0.8\u001b[0m\u001b[1;33m\u001b[0m\u001b[1;33m\u001b[0m\u001b[0m\n\u001b[0;32m   4905\u001b[0m         \"\"\"\n\u001b[1;32m-> 4906\u001b[1;33m         return super().drop(\n\u001b[0m\u001b[0;32m   4907\u001b[0m             \u001b[0mlabels\u001b[0m\u001b[1;33m=\u001b[0m\u001b[0mlabels\u001b[0m\u001b[1;33m,\u001b[0m\u001b[1;33m\u001b[0m\u001b[1;33m\u001b[0m\u001b[0m\n\u001b[0;32m   4908\u001b[0m             \u001b[0maxis\u001b[0m\u001b[1;33m=\u001b[0m\u001b[0maxis\u001b[0m\u001b[1;33m,\u001b[0m\u001b[1;33m\u001b[0m\u001b[1;33m\u001b[0m\u001b[0m\n",
      "\u001b[1;32m~\\anaconda3\\lib\\site-packages\\pandas\\core\\generic.py\u001b[0m in \u001b[0;36mdrop\u001b[1;34m(self, labels, axis, index, columns, level, inplace, errors)\u001b[0m\n\u001b[0;32m   4148\u001b[0m         \u001b[1;32mfor\u001b[0m \u001b[0maxis\u001b[0m\u001b[1;33m,\u001b[0m \u001b[0mlabels\u001b[0m \u001b[1;32min\u001b[0m \u001b[0maxes\u001b[0m\u001b[1;33m.\u001b[0m\u001b[0mitems\u001b[0m\u001b[1;33m(\u001b[0m\u001b[1;33m)\u001b[0m\u001b[1;33m:\u001b[0m\u001b[1;33m\u001b[0m\u001b[1;33m\u001b[0m\u001b[0m\n\u001b[0;32m   4149\u001b[0m             \u001b[1;32mif\u001b[0m \u001b[0mlabels\u001b[0m \u001b[1;32mis\u001b[0m \u001b[1;32mnot\u001b[0m \u001b[1;32mNone\u001b[0m\u001b[1;33m:\u001b[0m\u001b[1;33m\u001b[0m\u001b[1;33m\u001b[0m\u001b[0m\n\u001b[1;32m-> 4150\u001b[1;33m                 \u001b[0mobj\u001b[0m \u001b[1;33m=\u001b[0m \u001b[0mobj\u001b[0m\u001b[1;33m.\u001b[0m\u001b[0m_drop_axis\u001b[0m\u001b[1;33m(\u001b[0m\u001b[0mlabels\u001b[0m\u001b[1;33m,\u001b[0m \u001b[0maxis\u001b[0m\u001b[1;33m,\u001b[0m \u001b[0mlevel\u001b[0m\u001b[1;33m=\u001b[0m\u001b[0mlevel\u001b[0m\u001b[1;33m,\u001b[0m \u001b[0merrors\u001b[0m\u001b[1;33m=\u001b[0m\u001b[0merrors\u001b[0m\u001b[1;33m)\u001b[0m\u001b[1;33m\u001b[0m\u001b[1;33m\u001b[0m\u001b[0m\n\u001b[0m\u001b[0;32m   4151\u001b[0m \u001b[1;33m\u001b[0m\u001b[0m\n\u001b[0;32m   4152\u001b[0m         \u001b[1;32mif\u001b[0m \u001b[0minplace\u001b[0m\u001b[1;33m:\u001b[0m\u001b[1;33m\u001b[0m\u001b[1;33m\u001b[0m\u001b[0m\n",
      "\u001b[1;32m~\\anaconda3\\lib\\site-packages\\pandas\\core\\generic.py\u001b[0m in \u001b[0;36m_drop_axis\u001b[1;34m(self, labels, axis, level, errors)\u001b[0m\n\u001b[0;32m   4183\u001b[0m                 \u001b[0mnew_axis\u001b[0m \u001b[1;33m=\u001b[0m \u001b[0maxis\u001b[0m\u001b[1;33m.\u001b[0m\u001b[0mdrop\u001b[0m\u001b[1;33m(\u001b[0m\u001b[0mlabels\u001b[0m\u001b[1;33m,\u001b[0m \u001b[0mlevel\u001b[0m\u001b[1;33m=\u001b[0m\u001b[0mlevel\u001b[0m\u001b[1;33m,\u001b[0m \u001b[0merrors\u001b[0m\u001b[1;33m=\u001b[0m\u001b[0merrors\u001b[0m\u001b[1;33m)\u001b[0m\u001b[1;33m\u001b[0m\u001b[1;33m\u001b[0m\u001b[0m\n\u001b[0;32m   4184\u001b[0m             \u001b[1;32melse\u001b[0m\u001b[1;33m:\u001b[0m\u001b[1;33m\u001b[0m\u001b[1;33m\u001b[0m\u001b[0m\n\u001b[1;32m-> 4185\u001b[1;33m                 \u001b[0mnew_axis\u001b[0m \u001b[1;33m=\u001b[0m \u001b[0maxis\u001b[0m\u001b[1;33m.\u001b[0m\u001b[0mdrop\u001b[0m\u001b[1;33m(\u001b[0m\u001b[0mlabels\u001b[0m\u001b[1;33m,\u001b[0m \u001b[0merrors\u001b[0m\u001b[1;33m=\u001b[0m\u001b[0merrors\u001b[0m\u001b[1;33m)\u001b[0m\u001b[1;33m\u001b[0m\u001b[1;33m\u001b[0m\u001b[0m\n\u001b[0m\u001b[0;32m   4186\u001b[0m             \u001b[0mresult\u001b[0m \u001b[1;33m=\u001b[0m \u001b[0mself\u001b[0m\u001b[1;33m.\u001b[0m\u001b[0mreindex\u001b[0m\u001b[1;33m(\u001b[0m\u001b[1;33m**\u001b[0m\u001b[1;33m{\u001b[0m\u001b[0maxis_name\u001b[0m\u001b[1;33m:\u001b[0m \u001b[0mnew_axis\u001b[0m\u001b[1;33m}\u001b[0m\u001b[1;33m)\u001b[0m\u001b[1;33m\u001b[0m\u001b[1;33m\u001b[0m\u001b[0m\n\u001b[0;32m   4187\u001b[0m \u001b[1;33m\u001b[0m\u001b[0m\n",
      "\u001b[1;32m~\\anaconda3\\lib\\site-packages\\pandas\\core\\indexes\\base.py\u001b[0m in \u001b[0;36mdrop\u001b[1;34m(self, labels, errors)\u001b[0m\n\u001b[0;32m   6015\u001b[0m         \u001b[1;32mif\u001b[0m \u001b[0mmask\u001b[0m\u001b[1;33m.\u001b[0m\u001b[0many\u001b[0m\u001b[1;33m(\u001b[0m\u001b[1;33m)\u001b[0m\u001b[1;33m:\u001b[0m\u001b[1;33m\u001b[0m\u001b[1;33m\u001b[0m\u001b[0m\n\u001b[0;32m   6016\u001b[0m             \u001b[1;32mif\u001b[0m \u001b[0merrors\u001b[0m \u001b[1;33m!=\u001b[0m \u001b[1;34m\"ignore\"\u001b[0m\u001b[1;33m:\u001b[0m\u001b[1;33m\u001b[0m\u001b[1;33m\u001b[0m\u001b[0m\n\u001b[1;32m-> 6017\u001b[1;33m                 \u001b[1;32mraise\u001b[0m \u001b[0mKeyError\u001b[0m\u001b[1;33m(\u001b[0m\u001b[1;34mf\"{labels[mask]} not found in axis\"\u001b[0m\u001b[1;33m)\u001b[0m\u001b[1;33m\u001b[0m\u001b[1;33m\u001b[0m\u001b[0m\n\u001b[0m\u001b[0;32m   6018\u001b[0m             \u001b[0mindexer\u001b[0m \u001b[1;33m=\u001b[0m \u001b[0mindexer\u001b[0m\u001b[1;33m[\u001b[0m\u001b[1;33m~\u001b[0m\u001b[0mmask\u001b[0m\u001b[1;33m]\u001b[0m\u001b[1;33m\u001b[0m\u001b[1;33m\u001b[0m\u001b[0m\n\u001b[0;32m   6019\u001b[0m         \u001b[1;32mreturn\u001b[0m \u001b[0mself\u001b[0m\u001b[1;33m.\u001b[0m\u001b[0mdelete\u001b[0m\u001b[1;33m(\u001b[0m\u001b[0mindexer\u001b[0m\u001b[1;33m)\u001b[0m\u001b[1;33m\u001b[0m\u001b[1;33m\u001b[0m\u001b[0m\n",
      "\u001b[1;31mKeyError\u001b[0m: \"['UNDER_CONSTRUCTION' 'RERA' 'BHK_NO.' 'POSTED_BY' 'READY_TO_MOVE'\\n 'RESALE' 'BHK_OR_RK' 'ADDRESS'] not found in axis\""
     ]
    }
   ],
   "source": [
    "df=df.drop(([\"UNDER_CONSTRUCTION\", \"RERA\", \"BHK_NO.\",\"POSTED_BY\",\"READY_TO_MOVE\",\"RESALE\",\"BHK_OR_RK\",\"ADDRESS\"]),axis=1)\n",
    "df"
   ]
  },
  {
   "cell_type": "code",
   "execution_count": 6,
   "id": "ef4c1e2d",
   "metadata": {},
   "outputs": [
    {
     "data": {
      "text/plain": [
       "array([[ 5.45171340e+02,  2.12620000e+01,  7.30477000e+01,\n",
       "        -7.47535124e+01],\n",
       "       [ 8.00000000e+02,  1.89661140e+01,  7.31482780e+01,\n",
       "        -8.41147298e+00],\n",
       "       [ 1.25709651e+03,  2.25922000e+01,  8.84849110e+01,\n",
       "         4.61374158e+01],\n",
       "       ...,\n",
       "       [ 3.33627928e+04,  1.92221010e+01,  7.29882310e+01,\n",
       "         7.16934220e+03],\n",
       "       [ 1.17370892e+03,  1.84966700e+01,  7.39416700e+01,\n",
       "         7.45478520e+01],\n",
       "       [ 2.43953294e+03,  1.91248960e+01,  7.28935030e+01,\n",
       "         3.52809607e+02]])"
      ]
     },
     "execution_count": 6,
     "metadata": {},
     "output_type": "execute_result"
    }
   ],
   "source": [
    "df_values = df.values\n",
    "df_values "
   ]
  },
  {
   "cell_type": "code",
   "execution_count": 9,
   "id": "d4229c5a",
   "metadata": {},
   "outputs": [],
   "source": [
    "x =df_values[:,0:3]"
   ]
  },
  {
   "cell_type": "code",
   "execution_count": 13,
   "id": "302ade3a",
   "metadata": {},
   "outputs": [
    {
     "data": {
      "text/plain": [
       "1.0"
      ]
     },
     "execution_count": 13,
     "metadata": {},
     "output_type": "execute_result"
    }
   ],
   "source": [
    "y_p=model_1.predict(x)\n",
    "y_p\n",
    "model_1.score(x,y_p)"
   ]
  },
  {
   "cell_type": "code",
   "execution_count": 12,
   "id": "b6177b62",
   "metadata": {},
   "outputs": [
    {
     "data": {
      "text/html": [
       "<div>\n",
       "<style scoped>\n",
       "    .dataframe tbody tr th:only-of-type {\n",
       "        vertical-align: middle;\n",
       "    }\n",
       "\n",
       "    .dataframe tbody tr th {\n",
       "        vertical-align: top;\n",
       "    }\n",
       "\n",
       "    .dataframe thead th {\n",
       "        text-align: right;\n",
       "    }\n",
       "</style>\n",
       "<table border=\"1\" class=\"dataframe\">\n",
       "  <thead>\n",
       "    <tr style=\"text-align: right;\">\n",
       "      <th></th>\n",
       "      <th>SQUARE_FT</th>\n",
       "      <th>LONGITUDE</th>\n",
       "      <th>LATITUDE</th>\n",
       "      <th>prices</th>\n",
       "    </tr>\n",
       "  </thead>\n",
       "  <tbody>\n",
       "    <tr>\n",
       "      <th>0</th>\n",
       "      <td>545.171340</td>\n",
       "      <td>21.262000</td>\n",
       "      <td>73.047700</td>\n",
       "      <td>-74.753512</td>\n",
       "    </tr>\n",
       "    <tr>\n",
       "      <th>1</th>\n",
       "      <td>800.000000</td>\n",
       "      <td>18.966114</td>\n",
       "      <td>73.148278</td>\n",
       "      <td>-8.411473</td>\n",
       "    </tr>\n",
       "    <tr>\n",
       "      <th>2</th>\n",
       "      <td>1257.096513</td>\n",
       "      <td>22.592200</td>\n",
       "      <td>88.484911</td>\n",
       "      <td>46.137416</td>\n",
       "    </tr>\n",
       "    <tr>\n",
       "      <th>3</th>\n",
       "      <td>1400.329489</td>\n",
       "      <td>26.988300</td>\n",
       "      <td>75.584600</td>\n",
       "      <td>82.991512</td>\n",
       "    </tr>\n",
       "    <tr>\n",
       "      <th>4</th>\n",
       "      <td>430.477830</td>\n",
       "      <td>22.700000</td>\n",
       "      <td>72.870000</td>\n",
       "      <td>-106.180971</td>\n",
       "    </tr>\n",
       "    <tr>\n",
       "      <th>...</th>\n",
       "      <td>...</td>\n",
       "      <td>...</td>\n",
       "      <td>...</td>\n",
       "      <td>...</td>\n",
       "    </tr>\n",
       "    <tr>\n",
       "      <th>68715</th>\n",
       "      <td>856.555505</td>\n",
       "      <td>19.180000</td>\n",
       "      <td>72.963330</td>\n",
       "      <td>3.451344</td>\n",
       "    </tr>\n",
       "    <tr>\n",
       "      <th>68716</th>\n",
       "      <td>2304.147465</td>\n",
       "      <td>30.661104</td>\n",
       "      <td>76.746082</td>\n",
       "      <td>263.407585</td>\n",
       "    </tr>\n",
       "    <tr>\n",
       "      <th>68717</th>\n",
       "      <td>33362.792750</td>\n",
       "      <td>19.222101</td>\n",
       "      <td>72.988231</td>\n",
       "      <td>7169.342201</td>\n",
       "    </tr>\n",
       "    <tr>\n",
       "      <th>68718</th>\n",
       "      <td>1173.708920</td>\n",
       "      <td>18.496670</td>\n",
       "      <td>73.941670</td>\n",
       "      <td>74.547852</td>\n",
       "    </tr>\n",
       "    <tr>\n",
       "      <th>68719</th>\n",
       "      <td>2439.532944</td>\n",
       "      <td>19.124896</td>\n",
       "      <td>72.893503</td>\n",
       "      <td>352.809607</td>\n",
       "    </tr>\n",
       "  </tbody>\n",
       "</table>\n",
       "<p>68720 rows × 4 columns</p>\n",
       "</div>"
      ],
      "text/plain": [
       "          SQUARE_FT  LONGITUDE   LATITUDE       prices\n",
       "0        545.171340  21.262000  73.047700   -74.753512\n",
       "1        800.000000  18.966114  73.148278    -8.411473\n",
       "2       1257.096513  22.592200  88.484911    46.137416\n",
       "3       1400.329489  26.988300  75.584600    82.991512\n",
       "4        430.477830  22.700000  72.870000  -106.180971\n",
       "...             ...        ...        ...          ...\n",
       "68715    856.555505  19.180000  72.963330     3.451344\n",
       "68716   2304.147465  30.661104  76.746082   263.407585\n",
       "68717  33362.792750  19.222101  72.988231  7169.342201\n",
       "68718   1173.708920  18.496670  73.941670    74.547852\n",
       "68719   2439.532944  19.124896  72.893503   352.809607\n",
       "\n",
       "[68720 rows x 4 columns]"
      ]
     },
     "execution_count": 12,
     "metadata": {},
     "output_type": "execute_result"
    }
   ],
   "source": [
    "df['prices'] = y_p\n",
    "df"
   ]
  },
  {
   "cell_type": "code",
   "execution_count": 15,
   "id": "b343e1d3",
   "metadata": {},
   "outputs": [],
   "source": [
    "df.to_csv('test.csv',index=False)"
   ]
  },
  {
   "cell_type": "code",
   "execution_count": 18,
   "id": "e3253e77",
   "metadata": {},
   "outputs": [
    {
     "data": {
      "text/plain": [
       "Text(0, 0.5, 'TARGET(PRICE_IN_LACS)')"
      ]
     },
     "execution_count": 18,
     "metadata": {},
     "output_type": "execute_result"
    },
    {
     "data": {
      "image/png": "[encoded data removed]",
      "text/plain": [
       "<Figure size 2160x432 with 3 Axes>"
      ]
     },
     "metadata": {
      "needs_background": "light"
     },
     "output_type": "display_data"
    }
   ],
   "source": [
    "plt.figure(figsize=(30,6))\n",
    "plt.subplot(131)\n",
    "plt.scatter(df['SQUARE_FT'], df['prices'])\n",
    "plt.xlabel('SQUARE_FT')\n",
    "plt.ylabel('TARGET(PRICE_IN_LACS)')\n",
    "plt.subplot(132)\n",
    "plt.scatter(df['LONGITUDE'], df['prices'])\n",
    "plt.xlabel('LONGITUDE')\n",
    "plt.ylabel('TARGET(PRICE_IN_LACS)')\n",
    "plt.subplot(133)\n",
    "plt.scatter(df['LATITUDE'], df['prices'])\n",
    "plt.xlabel('LATITUDE')\n",
    "plt.ylabel('TARGET(PRICE_IN_LACS)')"
   ]
  },
  {
   "cell_type": "code",
   "execution_count": null,
   "id": "f5f84bef",
   "metadata": {},
   "outputs": [],
   "source": []
  }
 ],
 "metadata": {
  "kernelspec": {
   "display_name": "Python 3 (ipykernel)",
   "language": "python",
   "name": "python3"
  },
  "language_info": {
   "codemirror_mode": {
    "name": "ipython",
    "version": 3
   },
   "file_extension": ".py",
   "mimetype": "text/x-python",
   "name": "python",
   "nbconvert_exporter": "python",
   "pygments_lexer": "ipython3",
   "version": "3.9.7"
  }
 },
 "nbformat": 4,
 "nbformat_minor": 5
}
